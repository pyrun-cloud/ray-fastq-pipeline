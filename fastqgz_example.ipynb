{
 "cells": [
  {
   "cell_type": "code",
   "execution_count": null,
   "id": "cf20a84f",
   "metadata": {},
   "outputs": [],
   "source": [
    "import ray\n",
    "import numpy as np\n",
    "import pandas as pd\n",
    "import joblib\n",
    "\n",
    "from collections import Counter\n",
    "from ray.util.joblib import register_ray\n",
    "from sklearn.model_selection import RandomizedSearchCV\n",
    "from sklearn.svm import SVC\n",
    "\n",
    "from cloud_data_cockpit import DataCockpit"
   ]
  },
  {
   "cell_type": "code",
   "execution_count": null,
   "id": "68ac87a2",
   "metadata": {},
   "outputs": [],
   "source": [
    "ray.init()\n",
    "register_ray()"
   ]
  },
  {
   "cell_type": "markdown",
   "id": "501a5ecf",
   "metadata": {},
   "source": [
    "## Loading and Partitioning FASTA Sequences with DataCockpit\n",
    "\n",
    "In this cell, we will initialize the data loader and prepare a FASTA file for distributed processing with Ray. You should:\n",
    "\n",
    "1. **Specify a FASTA file path**  \n",
    "   - Point to the FASTA file you want to process (e.g. `sequences.fasta`).  \n",
    "\n",
    "2. **Define the number of _chunks_**  \n",
    "   - Choose into how many partitions (_chunks_) you want to split the sequence data.  \n",
    "   - Proper chunking allows Ray to balance the workload across workers.\n",
    "\n",
    "3. **Partition the FASTA file**  \n",
    "   - Use DataCockpit to read and split the file into the defined number of _chunks_.  \n",
    "\n",
    "4. **Run the rest of the notebook with Ray**  \n",
    "   - After partitioning, Ray will manage parallel sequence processing.  \n",
    "   - Ensure your Ray cluster is initialized before executing downstream analysis.\n"
   ]
  },
  {
   "cell_type": "code",
   "execution_count": null,
   "id": "ed842081",
   "metadata": {},
   "outputs": [],
   "source": [
    "data_loader = DataCockpit()"
   ]
  },
  {
   "cell_type": "code",
   "execution_count": null,
   "id": "a5fac91f",
   "metadata": {},
   "outputs": [],
   "source": [
    "slices = data_loader.get_data_slices()"
   ]
  },
  {
   "cell_type": "code",
   "execution_count": null,
   "id": "09e3d676",
   "metadata": {},
   "outputs": [],
   "source": [
    "@ray.remote\n",
    "def process_batch(batch_slice, k=4):\n",
    "    lines = batch_slice.get()\n",
    "    # Normalize bytes→str\n",
    "    normalized = [l.decode(\"utf-8\") if isinstance(l, bytes) else l\n",
    "                    for l in lines]\n",
    "\n",
    "    docs = []\n",
    "    for i in range(0, len(normalized), 4):\n",
    "        header = normalized[i].lstrip(\"@\").strip()\n",
    "        seq = normalized[i+1].strip().upper()\n",
    "        if not seq:\n",
    "            continue\n",
    "        # Build k‑mers\n",
    "        kmers = [seq[j:j+k] for j in range(len(seq) - k + 1)]\n",
    "        docs.append(\" \".join(kmers))\n",
    "    return docs"
   ]
  },
  {
   "cell_type": "code",
   "execution_count": null,
   "id": "9adeebf8",
   "metadata": {},
   "outputs": [],
   "source": [
    "futures = [process_batch.remote(s) for s in slices]\n",
    "nested_docs = ray.get(futures)"
   ]
  },
  {
   "cell_type": "code",
   "execution_count": null,
   "id": "a7bb0b64",
   "metadata": {},
   "outputs": [],
   "source": [
    "counts = [len(docs) for docs in nested_docs]\n",
    "logging.info(f\"Reads per batch: {counts}\")\n",
    "if sum(counts) == 0:\n",
    "    raise RuntimeError(\"No k‑mers extracted: check parser or batch size\")"
   ]
  },
  {
   "cell_type": "code",
   "execution_count": null,
   "id": "835a05ea",
   "metadata": {},
   "outputs": [],
   "source": [
    "vectorizer = CountVectorizer(\n",
    "    stop_words='english',\n",
    "    token_pattern=r'(?u)\\b[a-zA-ZÁÉÍÓÚñÑüÜ]{2,}\\b',\n",
    "    min_df=2\n",
    ")\n",
    "X = vectorizer.fit_transform(all_docs)"
   ]
  },
  {
   "cell_type": "code",
   "execution_count": null,
   "id": "5994b1f7",
   "metadata": {},
   "outputs": [],
   "source": [
    "register_ray()\n",
    "n_clusters = 3\n",
    "with parallel_backend(\"ray\", n_jobs=4):\n",
    "    kmeans = KMeans(n_clusters=n_clusters, random_state=0)\n",
    "    labels = kmeans.fit_predict(X)"
   ]
  },
  {
   "cell_type": "code",
   "execution_count": null,
   "id": "33c299d2",
   "metadata": {},
   "outputs": [],
   "source": [
    "df = pd.DataFrame({\n",
    "    \"doc_index\": range(len(all_docs)),\n",
    "    \"cluster\": labels\n",
    "})\n",
    "print(\"Size of each cluster:\")\n",
    "print(df[\"cluster\"].value_counts().sort_index())\n"
   ]
  },
  {
   "cell_type": "code",
   "execution_count": null,
   "id": "183a28ae",
   "metadata": {},
   "outputs": [],
   "source": [
    "ray.shutdown()\n"
   ]
  }
 ],
 "metadata": {
  "kernelspec": {
   "display_name": "Python 3",
   "language": "python",
   "name": "python3"
  },
  "language_info": {
   "codemirror_mode": {
    "name": "ipython",
    "version": 3
   },
   "file_extension": ".py",
   "mimetype": "text/x-python",
   "name": "python",
   "nbconvert_exporter": "python",
   "pygments_lexer": "ipython3",
   "version": "3.10.12"
  }
 },
 "nbformat": 4,
 "nbformat_minor": 5
}
